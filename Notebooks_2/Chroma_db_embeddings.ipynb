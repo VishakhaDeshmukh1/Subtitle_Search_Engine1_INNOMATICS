{
  "cells": [
    {
      "cell_type": "code",
      "execution_count": 1,
      "metadata": {
        "id": "22SKidNFT1Cw"
      },
      "outputs": [],
      "source": [
        "import pandas as pd"
      ]
    },
    {
      "cell_type": "code",
      "execution_count": 2,
      "metadata": {
        "id": "86I-dhqlUDOM"
      },
      "outputs": [],
      "source": [
        "path = \"C:\\\\Users\\\\visha\\\\Downloads\\\\Subtitle_Seachengine\\\\Subtitle_Search_Engine-main\\\\Subtitle_Search_Engine-main\\\\Data\\\\Datasubtitles_extracted.parquet\"\n",
        "df = pd.read_parquet(path)"
      ]
    },
    {
      "cell_type": "code",
      "execution_count": 3,
      "metadata": {
        "colab": {
          "base_uri": "https://localhost:8080/",
          "height": 206
        },
        "id": "UjIj7RtMUOn4",
        "outputId": "77556ee4-15df-4133-b79d-34c026a41ece"
      },
      "outputs": [
        {
          "data": {
            "text/html": [
              "<div>\n",
              "<style scoped>\n",
              "    .dataframe tbody tr th:only-of-type {\n",
              "        vertical-align: middle;\n",
              "    }\n",
              "\n",
              "    .dataframe tbody tr th {\n",
              "        vertical-align: top;\n",
              "    }\n",
              "\n",
              "    .dataframe thead th {\n",
              "        text-align: right;\n",
              "    }\n",
              "</style>\n",
              "<table border=\"1\" class=\"dataframe\">\n",
              "  <thead>\n",
              "    <tr style=\"text-align: right;\">\n",
              "      <th></th>\n",
              "      <th>subtitle_id</th>\n",
              "      <th>subtitle_name</th>\n",
              "      <th>content</th>\n",
              "    </tr>\n",
              "  </thead>\n",
              "  <tbody>\n",
              "    <tr>\n",
              "      <th>3536</th>\n",
              "      <td>9399021</td>\n",
              "      <td>kyuketsuki.sugu.shinu.s01.e05.the.longest.day....</td>\n",
              "      <td>stray cat from the neighborhoodNgot lost in th...</td>\n",
              "    </tr>\n",
              "    <tr>\n",
              "      <th>2012</th>\n",
              "      <td>9248544</td>\n",
              "      <td>the.real.bling.ring.hollywood.heist.s01.e02.fa...</td>\n",
              "      <td>n during those years and so my way of being in...</td>\n",
              "    </tr>\n",
              "    <tr>\n",
              "      <th>24613</th>\n",
              "      <td>9354469</td>\n",
              "      <td>beverly.hills.90210.s03.e14.wild.horses.(1992)...</td>\n",
              "      <td>to you about what happened last night Theres ...</td>\n",
              "    </tr>\n",
              "    <tr>\n",
              "      <th>12239</th>\n",
              "      <td>9359648</td>\n",
              "      <td>according.to.jim.s03.e06.abcs.and.123s.(2003)....</td>\n",
              "      <td>you cant read Yeah Read this bucko You know yo...</td>\n",
              "    </tr>\n",
              "    <tr>\n",
              "      <th>5295</th>\n",
              "      <td>9232597</td>\n",
              "      <td>paappan.(2022).eng.1cd</td>\n",
              "      <td>ases yesterday Its time So we havent been able...</td>\n",
              "    </tr>\n",
              "  </tbody>\n",
              "</table>\n",
              "</div>"
            ],
            "text/plain": [
              "      subtitle_id                                      subtitle_name  \\\n",
              "3536      9399021  kyuketsuki.sugu.shinu.s01.e05.the.longest.day....   \n",
              "2012      9248544  the.real.bling.ring.hollywood.heist.s01.e02.fa...   \n",
              "24613     9354469  beverly.hills.90210.s03.e14.wild.horses.(1992)...   \n",
              "12239     9359648  according.to.jim.s03.e06.abcs.and.123s.(2003)....   \n",
              "5295      9232597                             paappan.(2022).eng.1cd   \n",
              "\n",
              "                                                 content  \n",
              "3536   stray cat from the neighborhoodNgot lost in th...  \n",
              "2012   n during those years and so my way of being in...  \n",
              "24613   to you about what happened last night Theres ...  \n",
              "12239  you cant read Yeah Read this bucko You know yo...  \n",
              "5295   ases yesterday Its time So we havent been able...  "
            ]
          },
          "execution_count": 3,
          "metadata": {},
          "output_type": "execute_result"
        }
      ],
      "source": [
        "df.head()"
      ]
    },
    {
      "cell_type": "code",
      "execution_count": 5,
      "metadata": {
        "colab": {
          "base_uri": "https://localhost:8080/",
          "height": 206
        },
        "id": "UyyEE9sOUSg3",
        "outputId": "8321e804-34dc-4c58-a330-ec07c31d87d5"
      },
      "outputs": [
        {
          "data": {
            "text/html": [
              "<div>\n",
              "<style scoped>\n",
              "    .dataframe tbody tr th:only-of-type {\n",
              "        vertical-align: middle;\n",
              "    }\n",
              "\n",
              "    .dataframe tbody tr th {\n",
              "        vertical-align: top;\n",
              "    }\n",
              "\n",
              "    .dataframe thead th {\n",
              "        text-align: right;\n",
              "    }\n",
              "</style>\n",
              "<table border=\"1\" class=\"dataframe\">\n",
              "  <thead>\n",
              "    <tr style=\"text-align: right;\">\n",
              "      <th></th>\n",
              "      <th>subtitle_id</th>\n",
              "      <th>subtitle_name</th>\n",
              "      <th>content</th>\n",
              "    </tr>\n",
              "  </thead>\n",
              "  <tbody>\n",
              "    <tr>\n",
              "      <th>3536</th>\n",
              "      <td>9399021</td>\n",
              "      <td>kyuketsuki.sugu.shinu.s01.e05.the.longest.day....</td>\n",
              "      <td>stray cat from the neighborhoodNgot lost in th...</td>\n",
              "    </tr>\n",
              "    <tr>\n",
              "      <th>2012</th>\n",
              "      <td>9248544</td>\n",
              "      <td>the.real.bling.ring.hollywood.heist.s01.e02.fa...</td>\n",
              "      <td>n during those years and so my way of being in...</td>\n",
              "    </tr>\n",
              "    <tr>\n",
              "      <th>24613</th>\n",
              "      <td>9354469</td>\n",
              "      <td>beverly.hills.90210.s03.e14.wild.horses.(1992)...</td>\n",
              "      <td>to you about what happened last night Theres ...</td>\n",
              "    </tr>\n",
              "    <tr>\n",
              "      <th>12239</th>\n",
              "      <td>9359648</td>\n",
              "      <td>according.to.jim.s03.e06.abcs.and.123s.(2003)....</td>\n",
              "      <td>you cant read Yeah Read this bucko You know yo...</td>\n",
              "    </tr>\n",
              "    <tr>\n",
              "      <th>5295</th>\n",
              "      <td>9232597</td>\n",
              "      <td>paappan.(2022).eng.1cd</td>\n",
              "      <td>ases yesterday Its time So we havent been able...</td>\n",
              "    </tr>\n",
              "  </tbody>\n",
              "</table>\n",
              "</div>"
            ],
            "text/plain": [
              "      subtitle_id                                      subtitle_name  \\\n",
              "3536      9399021  kyuketsuki.sugu.shinu.s01.e05.the.longest.day....   \n",
              "2012      9248544  the.real.bling.ring.hollywood.heist.s01.e02.fa...   \n",
              "24613     9354469  beverly.hills.90210.s03.e14.wild.horses.(1992)...   \n",
              "12239     9359648  according.to.jim.s03.e06.abcs.and.123s.(2003)....   \n",
              "5295      9232597                             paappan.(2022).eng.1cd   \n",
              "\n",
              "                                                 content  \n",
              "3536   stray cat from the neighborhoodNgot lost in th...  \n",
              "2012   n during those years and so my way of being in...  \n",
              "24613   to you about what happened last night Theres ...  \n",
              "12239  you cant read Yeah Read this bucko You know yo...  \n",
              "5295   ases yesterday Its time So we havent been able...  "
            ]
          },
          "execution_count": 5,
          "metadata": {},
          "output_type": "execute_result"
        }
      ],
      "source": [
        "df.reset_index(drop=True)\n",
        "df.head()"
      ]
    },
    {
      "cell_type": "code",
      "execution_count": 6,
      "metadata": {
        "colab": {
          "base_uri": "https://localhost:8080/"
        },
        "id": "eQpSt-tnUl-i",
        "outputId": "60b2b18a-1450-4147-f3fe-323e423a79a0"
      },
      "outputs": [
        {
          "name": "stdout",
          "output_type": "stream",
          "text": [
            "<class 'pandas.core.frame.DataFrame'>\n",
            "Index: 468111 entries, 3536 to 371\n",
            "Data columns (total 3 columns):\n",
            " #   Column         Non-Null Count   Dtype \n",
            "---  ------         --------------   ----- \n",
            " 0   subtitle_id    468111 non-null  object\n",
            " 1   subtitle_name  468111 non-null  object\n",
            " 2   content        468111 non-null  object\n",
            "dtypes: object(3)\n",
            "memory usage: 331.0 MB\n"
          ]
        }
      ],
      "source": [
        "df.info(memory_usage='deep')"
      ]
    },
    {
      "cell_type": "markdown",
      "metadata": {
        "id": "JSajNEUaWJb9"
      },
      "source": [
        "# Embeddings"
      ]
    },
    {
      "cell_type": "code",
      "execution_count": 8,
      "metadata": {
        "id": "4ud0rmeXZWBd"
      },
      "outputs": [],
      "source": [
        "import chromadb"
      ]
    },
    {
      "cell_type": "code",
      "execution_count": 10,
      "metadata": {
        "id": "Xlm1Sr-djiO5"
      },
      "outputs": [],
      "source": [
        "path = \"C:\\\\Users\\\\visha\\\\Downloads\\\\Subtitle_Seachengine\\\\Subtitle_Search_Engine-main\\\\Subtitle_Search_Engine-main\\\\db\""
      ]
    },
    {
      "cell_type": "code",
      "execution_count": 13,
      "metadata": {
        "id": "Wgd79wOEk__w"
      },
      "outputs": [],
      "source": [
        "client = chromadb.PersistentClient(path=path)"
      ]
    },
    {
      "cell_type": "code",
      "execution_count": 14,
      "metadata": {
        "colab": {
          "base_uri": "https://localhost:8080/"
        },
        "id": "vrVp9v0zlM4b",
        "outputId": "e2423e6b-04a1-4cbd-d21b-f0bc7c748c08"
      },
      "outputs": [
        {
          "data": {
            "text/plain": [
              "1714065793678832300"
            ]
          },
          "execution_count": 14,
          "metadata": {},
          "output_type": "execute_result"
        }
      ],
      "source": [
        "client.heartbeat()"
      ]
    },
    {
      "cell_type": "code",
      "execution_count": 15,
      "metadata": {
        "id": "CFKTpFztlPyl"
      },
      "outputs": [
        {
          "name": "stderr",
          "output_type": "stream",
          "text": [
            "C:\\Users\\visha\\AppData\\Roaming\\Python\\Python311\\site-packages\\tqdm\\auto.py:21: TqdmWarning: IProgress not found. Please update jupyter and ipywidgets. See https://ipywidgets.readthedocs.io/en/stable/user_install.html\n",
            "  from .autonotebook import tqdm as notebook_tqdm\n"
          ]
        }
      ],
      "source": [
        "from chromadb.utils import embedding_functions\n",
        "from sentence_transformers import SentenceTransformer,util"
      ]
    },
    {
      "cell_type": "code",
      "execution_count": 16,
      "metadata": {
        "id": "sT26Ut6xlXFc"
      },
      "outputs": [],
      "source": [
        "sentence_transformer = embedding_functions.SentenceTransformerEmbeddingFunction(model_name=\"all-MiniLM-L6-v2\")"
      ]
    },
    {
      "cell_type": "code",
      "execution_count": 17,
      "metadata": {
        "id": "nK4GkURllbu2"
      },
      "outputs": [],
      "source": [
        "collection = client.create_collection(\n",
        "        name=\"subtitle_sem\",\n",
        "        metadata={\"hnsw:space\": \"cosine\"},\n",
        "        embedding_function=sentence_transformer\n",
        "    )"
      ]
    },
    {
      "cell_type": "code",
      "execution_count": 18,
      "metadata": {
        "id": "xBaatX-7l04k"
      },
      "outputs": [],
      "source": [
        "new_df = df.sample(frac=0.20, random_state=42)\n",
        "new_df.reset_index(drop=True, inplace=True)"
      ]
    },
    {
      "cell_type": "code",
      "execution_count": 19,
      "metadata": {
        "id": "w5cggTBwmFrg"
      },
      "outputs": [],
      "source": [
        "import re\n",
        "new_df['subtitle_name'] = new_df['subtitle_name'].apply(lambda x: re.sub('\\.', ' ', x))"
      ]
    },
    {
      "cell_type": "code",
      "execution_count": 20,
      "metadata": {
        "id": "AgH5UmcomcpN"
      },
      "outputs": [],
      "source": [
        "new_df['content'] = new_df['content'].apply(lambda x: x.lower())"
      ]
    },
    {
      "cell_type": "code",
      "execution_count": 21,
      "metadata": {
        "id": "bX2mXBBuloH_"
      },
      "outputs": [],
      "source": [
        "content = new_df['content'].tolist()\n",
        "metadatas = [{'subtitle_name': name, 'subtitle_id': id} for name, id in zip(new_df['subtitle_name'], new_df['subtitle_id'])]\n",
        "ids = [str(i) for i in range(len(new_df))]"
      ]
    },
    {
      "cell_type": "code",
      "execution_count": 22,
      "metadata": {
        "id": "I6Ors9shnEfK"
      },
      "outputs": [],
      "source": [
        "batch_size = 5000\n",
        "num_batches = (len(content) + batch_size - 1) // batch_size\n",
        "\n",
        "for i in range(num_batches):\n",
        "    start_idx = i * batch_size\n",
        "    end_idx = min((i + 1) * batch_size, len(content))\n",
        "\n",
        "    batch_content = content[start_idx:end_idx]\n",
        "    batch_metadatas = metadatas[start_idx:end_idx]\n",
        "    batch_ids = ids[start_idx:end_idx]\n",
        "\n",
        "    collection.add(\n",
        "        documents=batch_content,\n",
        "        metadatas=batch_metadatas,\n",
        "        ids=batch_ids\n",
        "    )\n",
        "\n",
        "\n"
      ]
    },
    {
      "cell_type": "markdown",
      "metadata": {
        "id": "X1k3sE8sDQNW"
      },
      "source": [
        "# Let's test the code"
      ]
    },
    {
      "cell_type": "code",
      "execution_count": 23,
      "metadata": {
        "id": "VhRihc_FnP31"
      },
      "outputs": [],
      "source": [
        "query = 'Life is like riding a bicycle. To keep your balance, you must keep moving.'"
      ]
    },
    {
      "cell_type": "code",
      "execution_count": 24,
      "metadata": {
        "id": "tZJGdGYsDuXT"
      },
      "outputs": [],
      "source": [
        "result = collection.query(\n",
        "    query_texts = query,\n",
        "    include=[\"metadatas\", 'distances'],\n",
        "    n_results=5\n",
        ")"
      ]
    },
    {
      "cell_type": "code",
      "execution_count": 26,
      "metadata": {
        "colab": {
          "base_uri": "https://localhost:8080/"
        },
        "id": "YTaBzwByED1B",
        "outputId": "5c40fbc5-43c9-4da0-851a-622ccded00e8"
      },
      "outputs": [
        {
          "name": "stdout",
          "output_type": "stream",
          "text": [
            "Subtitle Name: ONE NATION UNDER STRESS (2019) ENG 1CD\n",
            "Subtitle Name: LES TROIS SOEURS (2015) ENG 1CD\n",
            "Subtitle Name: BODY CAM (2020) ENG 1CD\n",
            "Subtitle Name: SATURDAY NIGHT LIVE S02 E01 LILY TOMLINJAMES TAYLOR (1976) ENG 1CD\n",
            "Subtitle Name: THE XFILES S02 E08 ONE BREATH (1994) ENG 1CD\n"
          ]
        }
      ],
      "source": [
        "ids = result['ids'][0]\n",
        "distances = result['distances'][0]\n",
        "metadatas = result['metadatas'][0]\n",
        "zipped_data = zip(ids, distances, metadatas)\n",
        "sorted_data = sorted(zipped_data, key=lambda x: x[1], reverse=True)\n",
        "for _, distance, metadata in sorted_data:\n",
        "    subtitle_name = metadata['subtitle_name']\n",
        "    print(f\"Subtitle Name: {subtitle_name.upper()}\")"
      ]
    },
    {
      "cell_type": "code",
      "execution_count": null,
      "metadata": {
        "id": "CXrgVdZIEJSA"
      },
      "outputs": [],
      "source": []
    }
  ],
  "metadata": {
    "colab": {
      "provenance": []
    },
    "kernelspec": {
      "display_name": "Python 3",
      "name": "python3"
    },
    "language_info": {
      "codemirror_mode": {
        "name": "ipython",
        "version": 3
      },
      "file_extension": ".py",
      "mimetype": "text/x-python",
      "name": "python",
      "nbconvert_exporter": "python",
      "pygments_lexer": "ipython3",
      "version": "3.11.5"
    }
  },
  "nbformat": 4,
  "nbformat_minor": 0
}
